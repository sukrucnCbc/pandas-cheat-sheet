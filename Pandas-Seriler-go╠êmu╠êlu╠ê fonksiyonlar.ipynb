{
 "cells": [
  {
   "cell_type": "markdown",
   "metadata": {},
   "source": [
    "# Gömülü Fonksiyonlar (built-in functions)"
   ]
  },
  {
   "cell_type": "code",
   "execution_count": 1,
   "metadata": {},
   "outputs": [],
   "source": [
    "import pandas as pd"
   ]
  },
  {
   "cell_type": "code",
   "execution_count": 26,
   "metadata": {},
   "outputs": [],
   "source": [
    "ülke=pd.read_csv(\"ülke.csv\",squeeze=True)\n",
    "gelir=pd.read_csv(\"milligelir.csv\",squeeze=True)"
   ]
  },
  {
   "cell_type": "code",
   "execution_count": 28,
   "metadata": {},
   "outputs": [
    {
     "data": {
      "text/plain": [
       "20"
      ]
     },
     "execution_count": 28,
     "metadata": {},
     "output_type": "execute_result"
    }
   ],
   "source": [
    "len(gelir)"
   ]
  },
  {
   "cell_type": "code",
   "execution_count": 29,
   "metadata": {},
   "outputs": [
    {
     "data": {
      "text/plain": [
       "pandas.core.series.Series"
      ]
     },
     "execution_count": 29,
     "metadata": {},
     "output_type": "execute_result"
    }
   ],
   "source": [
    "type(ülke)"
   ]
  },
  {
   "cell_type": "code",
   "execution_count": 31,
   "metadata": {},
   "outputs": [
    {
     "data": {
      "text/plain": [
       "[741000,\n",
       " 748000,\n",
       " 910000,\n",
       " 945000,\n",
       " 1070000,\n",
       " 1210000,\n",
       " 1500000,\n",
       " 1510000,\n",
       " 1690000,\n",
       " 1720000,\n",
       " 1800000,\n",
       " 2140000,\n",
       " 2180000,\n",
       " 2850000,\n",
       " 2930000,\n",
       " 2940000,\n",
       " 4210000,\n",
       " 5170000,\n",
       " 14090000,\n",
       " 20410000]"
      ]
     },
     "execution_count": 31,
     "metadata": {},
     "output_type": "execute_result"
    }
   ],
   "source": [
    "sorted(gelir)"
   ]
  },
  {
   "cell_type": "code",
   "execution_count": 33,
   "metadata": {},
   "outputs": [
    {
     "data": {
      "text/plain": [
       "[20410000,\n",
       " 14090000,\n",
       " 5170000,\n",
       " 4210000,\n",
       " 2940000,\n",
       " 2930000,\n",
       " 2850000,\n",
       " 2180000,\n",
       " 2140000,\n",
       " 1800000,\n",
       " 1720000,\n",
       " 1690000,\n",
       " 1510000,\n",
       " 1500000,\n",
       " 1210000,\n",
       " 1070000,\n",
       " 945000,\n",
       " 910000,\n",
       " 748000,\n",
       " 741000]"
      ]
     },
     "execution_count": 33,
     "metadata": {},
     "output_type": "execute_result"
    }
   ],
   "source": [
    "list(gelir)"
   ]
  },
  {
   "cell_type": "code",
   "execution_count": 34,
   "metadata": {},
   "outputs": [
    {
     "data": {
      "text/plain": [
       "{0: 20410000,\n",
       " 1: 14090000,\n",
       " 2: 5170000,\n",
       " 3: 4210000,\n",
       " 4: 2940000,\n",
       " 5: 2930000,\n",
       " 6: 2850000,\n",
       " 7: 2180000,\n",
       " 8: 2140000,\n",
       " 9: 1800000,\n",
       " 10: 1720000,\n",
       " 11: 1690000,\n",
       " 12: 1510000,\n",
       " 13: 1500000,\n",
       " 14: 1210000,\n",
       " 15: 1070000,\n",
       " 16: 945000,\n",
       " 17: 910000,\n",
       " 18: 748000,\n",
       " 19: 741000}"
      ]
     },
     "execution_count": 34,
     "metadata": {},
     "output_type": "execute_result"
    }
   ],
   "source": [
    "dict(gelir)"
   ]
  },
  {
   "cell_type": "code",
   "execution_count": 35,
   "metadata": {},
   "outputs": [
    {
     "data": {
      "text/plain": [
       "20410000"
      ]
     },
     "execution_count": 35,
     "metadata": {},
     "output_type": "execute_result"
    }
   ],
   "source": [
    "max(gelir)"
   ]
  },
  {
   "cell_type": "code",
   "execution_count": 36,
   "metadata": {},
   "outputs": [
    {
     "data": {
      "text/plain": [
       "741000"
      ]
     },
     "execution_count": 36,
     "metadata": {},
     "output_type": "execute_result"
    }
   ],
   "source": [
    "min(gelir)"
   ]
  },
  {
   "cell_type": "code",
   "execution_count": null,
   "metadata": {},
   "outputs": [],
   "source": []
  }
 ],
 "metadata": {
  "kernelspec": {
   "display_name": "Python 3",
   "language": "python",
   "name": "python3"
  },
  "language_info": {
   "codemirror_mode": {
    "name": "ipython",
    "version": 3
   },
   "file_extension": ".py",
   "mimetype": "text/x-python",
   "name": "python",
   "nbconvert_exporter": "python",
   "pygments_lexer": "ipython3",
   "version": "3.6.4"
  }
 },
 "nbformat": 4,
 "nbformat_minor": 2
}
